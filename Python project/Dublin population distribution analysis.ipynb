{
 "cells": [
  {
   "cell_type": "code",
   "execution_count": 6,
   "id": "60dd8883",
   "metadata": {},
   "outputs": [],
   "source": [
    "\n",
    "import cartopy as ca\n",
    "import xarray as xr"
   ]
  },
  {
   "cell_type": "code",
   "execution_count": null,
   "id": "3b823aef",
   "metadata": {},
   "outputs": [],
   "source": [
    "# data1=pd.read_csv(\"C:/Users/knight/python/Census_by_small_area.csv\")\n",
    "# data2=pd.read_csv(\"C:/Users/knight/python/census_by_electoral_area.csv\")\n",
    "# data3=pd.read_csv(\"C:/Users/knight/python/Census_by_county.csv\")"
   ]
  },
  {
   "cell_type": "code",
   "execution_count": 5,
   "id": "eabb82f3",
   "metadata": {},
   "outputs": [],
   "source": [
    "import numpy as np\n",
    "import pandas as pd\n",
    "from pandas import DataFrame, Series\n",
    "import numpy.random as npr\n",
    "import matplotlib.pyplot as plt"
   ]
  },
  {
   "cell_type": "code",
   "execution_count": 19,
   "id": "9fea94c1",
   "metadata": {},
   "outputs": [],
   "source": [
    "x0=0.\n",
    "xn=2*np.pi\n",
    "xs=np.linspace(x0,xn,100)\n"
   ]
  },
  {
   "cell_type": "code",
   "execution_count": 29,
   "id": "8210eb7b",
   "metadata": {},
   "outputs": [
    {
     "data": {
      "text/plain": [
       "[<matplotlib.lines.Line2D at 0x2167091dd00>]"
      ]
     },
     "execution_count": 29,
     "metadata": {},
     "output_type": "execute_result"
    },
    {
     "data": {
      "image/png": "[encoded data removed]",
      "text/plain": [
       "<Figure size 432x288 with 1 Axes>"
      ]
     },
     "metadata": {
      "needs_background": "light"
     },
     "output_type": "display_data"
    }
   ],
   "source": [
    "plt.plot(xs,xs*0)"
   ]
  },
  {
   "cell_type": "code",
   "execution_count": 22,
   "id": "2bf338a7",
   "metadata": {},
   "outputs": [
    {
     "name": "stdout",
     "output_type": "stream",
     "text": [
      "0.06346651825433926\n"
     ]
    }
   ],
   "source": [
    "print(deltax)"
   ]
  },
  {
   "cell_type": "code",
   "execution_count": 23,
   "id": "1a553e62",
   "metadata": {},
   "outputs": [
    {
     "data": {
      "text/plain": [
       "0.06283185307179587"
      ]
     },
     "execution_count": 23,
     "metadata": {},
     "output_type": "execute_result"
    }
   ],
   "source": [
    "2*np.pi/100"
   ]
  },
  {
   "cell_type": "code",
   "execution_count": null,
   "id": "242e2cc1",
   "metadata": {},
   "outputs": [],
   "source": []
  }
 ],
 "metadata": {
  "kernelspec": {
   "display_name": "Python 3",
   "language": "python",
   "name": "python3"
  },
  "language_info": {
   "codemirror_mode": {
    "name": "ipython",
    "version": 3
   },
   "file_extension": ".py",
   "mimetype": "text/x-python",
   "name": "python",
   "nbconvert_exporter": "python",
   "pygments_lexer": "ipython3",
   "version": "3.8.8"
  }
 },
 "nbformat": 4,
 "nbformat_minor": 5
}
