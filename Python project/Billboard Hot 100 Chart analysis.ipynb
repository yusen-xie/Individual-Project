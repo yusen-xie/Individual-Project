{
 "cells": [
  {
   "cell_type": "code",
   "execution_count": 1,
   "id": "f9621b4b",
   "metadata": {},
   "outputs": [],
   "source": [
    "import seaborn as sns\n",
    "from pandas import Series, DataFrame\n",
    "import  numpy as np\n",
    "import numpy.linalg as npl\n",
    "import  pandas as pd\n",
    "import matplotlib.pyplot as plt\n",
    "import seaborn as sns\n"
   ]
  },
  {
   "cell_type": "markdown",
   "id": "42bd5f8f",
   "metadata": {},
   "source": [
    "1. Load the charts.csv dataset into Python as a pandas DataFrame. Include the arguments\n",
    "parse_dates=True in the read_csv function to convert the date strings into datetime objects.\n",
    "Describe the data. Comment on the size of the dataset and the type of data in each column."
   ]
  },
  {
   "cell_type": "code",
   "execution_count": 2,
   "id": "8fb84d02",
   "metadata": {},
   "outputs": [
    {
     "name": "stdout",
     "output_type": "stream",
     "text": [
      "        rank                                 song                     artist  \\\n",
      "0          1                               Butter                        BTS   \n",
      "1          2                             Good 4 U             Olivia Rodrigo   \n",
      "2          3                           Levitating  Dua Lipa Featuring DaBaby   \n",
      "3          4                         Kiss Me More     Doja Cat Featuring SZA   \n",
      "4          5       Montero (Call Me By Your Name)                  Lil Nas X   \n",
      "...      ...                                  ...                        ...   \n",
      "328482    96                        Over And Over            Thurston Harris   \n",
      "328483    97                     I Believe In You            Robert & Johnny   \n",
      "328484    98                      Little Serenade          The Ames Brothers   \n",
      "328485    99  I'll Get By (As Long As I Have You)             Billy Williams   \n",
      "328486   100                                 Judy            Frankie Vaughan   \n",
      "\n",
      "        last-week  peak-rank  weeks-on-board       date  \n",
      "0             1.0          1               7  2021/7/17  \n",
      "1             2.0          1               8  2021/7/17  \n",
      "2             4.0          2              40  2021/7/17  \n",
      "3             3.0          3              13  2021/7/17  \n",
      "4             8.0          1              15  2021/7/17  \n",
      "...           ...        ...             ...        ...  \n",
      "328482        NaN         96               1   1958/8/4  \n",
      "328483        NaN         97               1   1958/8/4  \n",
      "328484        NaN         98               1   1958/8/4  \n",
      "328485        NaN         99               1   1958/8/4  \n",
      "328486        NaN        100               1   1958/8/4  \n",
      "\n",
      "[328487 rows x 7 columns]\n",
      "<class 'pandas.core.frame.DataFrame'>\n",
      "RangeIndex: 328487 entries, 0 to 328486\n",
      "Data columns (total 7 columns):\n",
      " #   Column          Non-Null Count   Dtype         \n",
      "---  ------          --------------   -----         \n",
      " 0   rank            328487 non-null  int64         \n",
      " 1   song            328487 non-null  object        \n",
      " 2   artist          328487 non-null  object        \n",
      " 3   last-week       296422 non-null  float64       \n",
      " 4   peak-rank       328487 non-null  int64         \n",
      " 5   weeks-on-board  328487 non-null  int64         \n",
      " 6   date            328487 non-null  datetime64[ns]\n",
      "dtypes: datetime64[ns](1), float64(1), int64(3), object(2)\n",
      "memory usage: 17.5+ MB\n"
     ]
    }
   ],
   "source": [
    "path = 'E:/UCD lesson/python/assessed/'\n",
    "Artist= pd.read_csv(path+'charts.csv',encoding=\"unicode_escape\")\n",
    "print(Artist)\n",
    "data_time=Artist.loc[:,'date']\n",
    "Artist['date']=pd.to_datetime(Artist['date'])\n",
    "Artist.info()\n"
   ]
  },
  {
   "cell_type": "raw",
   "id": "97d61278",
   "metadata": {},
   "source": [
    "        rank                                 song                     artist  \\\n",
    "0          1                               Butter                        BTS   \n",
    "1          2                             Good 4 U             Olivia Rodrigo   \n",
    "2          3                           Levitating  Dua Lipa Featuring DaBaby   \n",
    "3          4                         Kiss Me More     Doja Cat Featuring SZA   \n",
    "4          5       Montero (Call Me By Your Name)                  Lil Nas X   \n",
    "...      ...                                  ...                        ...   \n",
    "328482    96                        Over And Over            Thurston Harris   \n",
    "328483    97                     I Believe In You            Robert & Johnny   \n",
    "328484    98                      Little Serenade          The Ames Brothers   \n",
    "328485    99  I'll Get By (As Long As I Have You)             Billy Williams   \n",
    "328486   100                                 Judy            Frankie Vaughan   \n",
    "\n",
    "        last-week  peak-rank  weeks-on-board       date  \n",
    "0             1.0          1               7  2021/7/17  \n",
    "1             2.0          1               8  2021/7/17  \n",
    "2             4.0          2              40  2021/7/17  \n",
    "3             3.0          3              13  2021/7/17  \n",
    "4             8.0          1              15  2021/7/17  \n",
    "...           ...        ...             ...        ...  \n",
    "328482        NaN         96               1   1958/8/4  \n",
    "328483        NaN         97               1   1958/8/4  \n",
    "328484        NaN         98               1   1958/8/4  \n",
    "328485        NaN         99               1   1958/8/4  \n",
    "328486        NaN        100               1   1958/8/4  \n",
    "\n",
    "[328487 rows x 7 columns]\n",
    "<class 'pandas.core.frame.DataFrame'>\n",
    "RangeIndex: 328487 entries, 0 to 328486\n",
    "Data columns (total 7 columns):\n",
    " #   Column          Non-Null Count   Dtype         \n",
    "---  ------          --------------   -----         \n",
    " 0   rank            328487 non-null  int64         \n",
    " 1   song            328487 non-null  object        \n",
    " 2   artist          328487 non-null  object        \n",
    " 3   last-week       296422 non-null  float64       \n",
    " 4   peak-rank       328487 non-null  int64         \n",
    " 5   weeks-on-board  328487 non-null  int64         \n",
    " 6   date            328487 non-null  datetime64[ns]\n",
    "dtypes: datetime64[ns](1), float64(1), int64(3), object(2)\n",
    "memory usage: 17.5+ MB"
   ]
  },
  {
   "cell_type": "raw",
   "id": "4b586155",
   "metadata": {},
   "source": [
    "2. Write code to answer the following questions:\n",
    "  \n",
    "  A;How many different dates are included in the data set?\n",
    "  B:How many different artists featured in the charts since its inception in 1958?\n",
    "  C:Determine the top 10 artists that feature in the charts the most amount of times?\n",
    "  D:What is the maximum length of time a song featured in the charts? What was this song\n",
    "and who was the artist?\n"
   ]
  },
  {
   "cell_type": "code",
   "execution_count": 3,
   "id": "e120843d",
   "metadata": {},
   "outputs": [
    {
     "name": "stdout",
     "output_type": "stream",
     "text": [
      "0        2021-07-17\n",
      "100      2021-07-10\n",
      "200      2021-07-03\n",
      "300      2021-06-26\n",
      "400      2021-06-19\n",
      "            ...    \n",
      "327987   1958-09-01\n",
      "328087   1958-08-25\n",
      "328187   1958-08-18\n",
      "328287   1958-08-11\n",
      "328387   1958-08-04\n",
      "Name: date, Length: 3285, dtype: datetime64[ns]\n",
      "the number of different dates are included in he data set is 3285\n",
      "13                                   Aaron Lewis\n",
      "48                  Brent Faiyaz Featuring Drake\n",
      "72        Big Red Machine Featuring Taylor Swift\n",
      "80           G Herbo Featuring Polo G & Lil Tjay\n",
      "81                         Wizkid Featuring Tems\n",
      "                           ...                  \n",
      "328455                            The Honeycones\n",
      "328457                              Frank Gallup\n",
      "328471                             The Daddy-O's\n",
      "328482                           Thurston Harris\n",
      "328486                           Frankie Vaughan\n",
      "Name: artist, Length: 754, dtype: object\n",
      "754\n",
      "Taylor Swift                                 1022\n",
      "Elton John                                    889\n",
      "Madonna                                       857\n",
      "Kenny Chesney                                 758\n",
      "Drake                                         751\n",
      "                                             ... \n",
      "Mitch Miller and his Orchestra and Chorus       1\n",
      "Demi Lovato Featuring Jonas Brothers            1\n",
      "2 Chainz Featuring Drake & Lil Wayne            1\n",
      "Afrojack Featuring Wrabel                       1\n",
      "Ric-A-Che Featuring Darija                      1\n",
      "Name: artist, Length: 10100, dtype: int64\n",
      "Taylor Swift     1022\n",
      "Elton John        889\n",
      "Madonna           857\n",
      "Kenny Chesney     758\n",
      "Drake             751\n",
      "Tim McGraw        731\n",
      "Keith Urban       673\n",
      "Stevie Wonder     659\n",
      "Rod Stewart       657\n",
      "Mariah Carey      621\n",
      "Name: artist, dtype: int64\n",
      "the maximum length of time a song featured in the charts , then ame of this song and the artist are divided\n",
      "87\n",
      "song: Radioactive\n",
      "Artist: Imagine Dragons\n"
     ]
    },
    {
     "data": {
      "text/plain": [
       "\"#Display all columns\\npd.set_option('display.max_columns', None)\\n#Display all rows\\npd.set_option('display.max_rows', None)\""
      ]
     },
     "execution_count": 3,
     "metadata": {},
     "output_type": "execute_result"
    }
   ],
   "source": [
    "#A\n",
    "data1= Artist.drop_duplicates(subset=['date'], keep=False)\n",
    "data2=Artist.drop_duplicates(subset=['date'],keep='first')\n",
    "print(data2['date'])\n",
    "print('the number of different dates are included in he data set is', data2['date'].count())\n",
    "#B\n",
    "time_artist= Artist.drop_duplicates(subset=['artist'], keep=False)\n",
    "print(time_artist['artist'])\n",
    "print(time_artist['artist'].count())\n",
    "\n",
    "\n",
    "#C\n",
    "df=Artist.artist.value_counts()\n",
    "print(df)\n",
    "print(df.head(10))\n",
    "\n",
    "#D\n",
    "print('the maximum length of time a song featured in the charts , then ame of this song and the artist are divided')\n",
    "print(Artist['weeks-on-board'][Artist['weeks-on-board'].idxmax()])\n",
    "print('song:',Artist['song'][Artist['weeks-on-board'].idxmax()])\n",
    "print('Artist:',Artist['artist'][Artist['weeks-on-board'].idxmax()])\n",
    "'''#Display all columns\n",
    "pd.set_option('display.max_columns', None)\n",
    "#Display all rows\n",
    "pd.set_option('display.max_rows', None)'''"
   ]
  },
  {
   "cell_type": "raw",
   "id": "cd6e707d",
   "metadata": {},
   "source": [
    "including 3285 different dates\n",
    "there are  754 different artist \n",
    "• Determine the top 10 artists that feature in the charts the most amount of times?\n",
    "Taylor Swift     1022\n",
    "Elton John        889\n",
    "Madonna           857\n",
    "Kenny Chesney     758\n",
    "Drake             751\n",
    "Tim McGraw        731\n",
    "Keith Urban       673\n",
    "Stevie Wonder     659\n",
    "Rod Stewart       657\n",
    "Mariah Carey      621\n",
    "the maximum length of time a song featured in the charts , then ame of this song and the artist are divided\n",
    "87\n",
    "song: Radioactive\n",
    "Artist: Imagine Dragons"
   ]
  },
  {
   "cell_type": "markdown",
   "id": "d327038e",
   "metadata": {},
   "source": [
    "3. Determing how many missing values there are in each column of the dataset. Can you think\n",
    "of a reason why why these values are missing? Replace any missing values in the last-week\n",
    "column with the integer 101. Is this a reasonable value to replace the missing values with?"
   ]
  },
  {
   "cell_type": "code",
   "execution_count": 4,
   "id": "f1e1ecf1",
   "metadata": {},
   "outputs": [
    {
     "name": "stdout",
     "output_type": "stream",
     "text": [
      "rank              False\n",
      "song              False\n",
      "artist            False\n",
      "last-week          True\n",
      "peak-rank         False\n",
      "weeks-on-board    False\n",
      "date              False\n",
      "dtype: bool\n",
      "32065\n",
      "0           1.0\n",
      "1           2.0\n",
      "2           4.0\n",
      "3           3.0\n",
      "4           8.0\n",
      "          ...  \n",
      "328482    101.0\n",
      "328483    101.0\n",
      "328484    101.0\n",
      "328485    101.0\n",
      "328486    101.0\n",
      "Name: last-week, Length: 328487, dtype: float64\n",
      "101.0\n",
      " 32065\n"
     ]
    }
   ],
   "source": [
    "col_null=Artist.isnull().any()\n",
    "print(col_null)\n",
    "Sum=Artist[\"last-week\"].isnull().sum()\n",
    "print(Sum)\n",
    "Artist.fillna(101,inplace=True)\n",
    "print(Artist['last-week'])\n",
    "A_max=Artist['last-week'].max()\n",
    "print(A_max)\n",
    "count=0\n",
    "for i in Artist['last-week']:\n",
    "    if i==101:\n",
    "        count=count+1\n",
    "print('',count)\n"
   ]
  },
  {
   "cell_type": "markdown",
   "id": "e7aff64b",
   "metadata": {},
   "source": [
    "total 32065 value in colume of the 'last week'\n",
    "the column of 'last-week' have lot of null value  ,A total of 32065 values were replaced with 101\n",
    "One reason that comes to mind is the human quota oversight that causes data to be forgotten to be imported. \n",
    "Another reason is that the singer's work, which has only been on the list once, means that the previous records are not available\n",
    " Personally, it is not reasonable to replace all the missing values with 101, because the ranking inside is between 1-100 as observed by the data. Therefore, we can infer that the list is showing the top 100 songs"
   ]
  },
  {
   "cell_type": "markdown",
   "id": "32a42582",
   "metadata": {},
   "source": [
    "4. For each entry compute the difference between its rank last week and its current rank. Add\n",
    "the change in ranking as an additional column to the DataFrame. Create a numerical sum\u0002mary of change in ranking (mean, standard deviation, minimum, maximum, etc.) and inter\u0002pret your results.\n"
   ]
  },
  {
   "cell_type": "code",
   "execution_count": 5,
   "id": "2017ec80",
   "metadata": {},
   "outputs": [
    {
     "name": "stdout",
     "output_type": "stream",
     "text": [
      "count    328487.000000\n",
      "mean          2.312746\n",
      "std          12.803091\n",
      "min         -80.000000\n",
      "25%          -3.000000\n",
      "50%           1.000000\n",
      "75%           7.000000\n",
      "max         100.000000\n",
      "Name: Rank_new, dtype: float64\n"
     ]
    }
   ],
   "source": [
    "difference=Artist['last-week'].sub(Artist['rank'],fill_value=101)\n",
    "Artist['Rank_new']=difference\n",
    "pd.set_option('display.max_columns', None)\n",
    "print(Artist['Rank_new'].describe())\n"
   ]
  },
  {
   "cell_type": "raw",
   "id": "718734b6",
   "metadata": {},
   "source": [
    "count    328487.000000\n",
    "\n",
    "mean          2.312746\n",
    "\n",
    "std          12.803091\n",
    "\n",
    "min         -80.000000\n",
    "\n",
    "25%          -3.000000\n",
    "\n",
    "50%           1.000000\n",
    "\n",
    "75%           7.000000\n",
    "\n",
    "max         100.000000\n",
    "Name: Rank_new, dtype: float64\n",
    "all of Null-value are replaced 101"
   ]
  },
  {
   "cell_type": "markdown",
   "id": "a8217950",
   "metadata": {},
   "source": [
    " 5.create a scatter plot of the current rank versus the change in ranking from the previous week.\n",
    "Describe and interpret the plot. Compute the correlation coefficient between the current rank\n",
    "and the change in ranking. Does is agree with your what you found in your plot?\n"
   ]
  },
  {
   "cell_type": "code",
   "execution_count": 6,
   "id": "203fce8e",
   "metadata": {},
   "outputs": [
    {
     "name": "stdout",
     "output_type": "stream",
     "text": [
      "-0.04822847116861352\n"
     ]
    },
    {
     "data": {
      "image/png": "[encoded data removed]",
      "text/plain": [
       "<Figure size 432x288 with 1 Axes>"
      ]
     },
     "metadata": {
      "needs_background": "light"
     },
     "output_type": "display_data"
    }
   ],
   "source": [
    "plt.figure()\n",
    "plt.scatter(Artist['rank'],Artist['Rank_new'],color='g',linestyle='None',marker='X')\n",
    "plt.ylabel('Chang_rank',fontsize=10)\n",
    "plt.xlabel('rank',fontsize=10)\n",
    "plt.title(' the correlation coefficient between the current rank and the change in ranking',fontsize=14)\n",
    "print(Artist['rank'].corr(Artist['Rank_new']))\n"
   ]
  },
  {
   "cell_type": "raw",
   "id": "712e6ac1",
   "metadata": {},
   "source": [
    "the correlation coefficient between the current rank and the change in ranking should be \n",
    "-0.04822847116861352\n",
    "\n",
    "First, by looking at the data, the entire chart is presented from top left to bottom right. By analyzing the results of the difference between the ranking of the works, the overall difference between the front and back of the ranking is not much, which means that the works, but the works from five to twenty, will have some ups and downs, most of them are rising, and may become a fire of results in the next few weeks, resulting in a huge difference from the previous ranking.\n",
    "Secondly, we can see that the maximum value of the data in it is 100, while by looking at the graph behind it, we find that this means that some of the songs at the back of the ranking have very little chance to rise up the ranking quickly.\n",
    "Finally, the results of the data in the image of the majority of 0 above in the y-axis is greater than 0. Personally, I feel that because the work of the data did not remove the duplication, resulting in the results will be some deviation.\n",
    "\n"
   ]
  },
  {
   "cell_type": "markdown",
   "id": "826fea55",
   "metadata": {},
   "source": [
    "6. Songs will typically appear in the charts for a number of weeks, as such, there are a number\n",
    "of duplicate entries. Delete all duplicate entries, keeping only the most recent entries of a\n",
    "particular song by a particular artist in the charts. How many unique songs (with unique\n",
    "artists) have appeared in the charts since its inception in 1958? Repeat Q2C for the new\n",
    "DataFrame, with unique entries only. Are the top 10 entries the same? If not, discuss why\n",
    "they may have changed.You may find the pandas method drop_duplicates useful. See the pandas documentation\n",
    "for details on how to apply this method to a DataFrame.\n"
   ]
  },
  {
   "cell_type": "code",
   "execution_count": 7,
   "id": "67bbe7bf",
   "metadata": {},
   "outputs": [
    {
     "name": "stdout",
     "output_type": "stream",
     "text": [
      "Glee Cast                    183\n",
      "Taylor Swift                 119\n",
      "Drake                         99\n",
      "The Beatles                   65\n",
      "Aretha Franklin               64\n",
      "                            ... \n",
      "Mel Gadson                     1\n",
      "The Captain & Tennille         1\n",
      "Randy Newman & Paul Simon      1\n",
      "BRS Kash                       1\n",
      "The Boys In The Band           1\n",
      "Name: artist, Length: 10100, dtype: int64 \n",
      "\n",
      "Glee Cast             183\n",
      "Taylor Swift          119\n",
      "Drake                  99\n",
      "The Beatles            65\n",
      "Aretha Franklin        64\n",
      "Elton John             58\n",
      "The Rolling Stones     57\n",
      "Stevie Wonder          54\n",
      "The Beach Boys         54\n",
      "Madonna                53\n",
      "Name: artist, dtype: int64\n"
     ]
    }
   ],
   "source": [
    "Artist.drop_duplicates(subset=['song','artist'],keep='first',inplace=True)\n",
    "pd.set_option('display.max_columns', None)\n",
    "product=Artist['artist'].value_counts()\n",
    "print(product,'\\n')\n",
    "product_10=Artist['artist'].value_counts().head(10)#look top 10\n",
    "print(product_10)"
   ]
  },
  {
   "cell_type": "raw",
   "id": "3f19334b",
   "metadata": {},
   "source": [
    "there are 10100 of unique artist .the top 10 has the different result,it is not same. the top 10:\n",
    "Glee Cast 183; \n",
    "Taylor Swift 119;\n",
    "Drake 99;\n",
    "The Beatles 65;\n",
    "Aretha Franklin 64;\n",
    "Elton John  58;\n",
    "The Rolling Stones 57;\n",
    "Stevie Wonder   54;\n",
    "The Beach Boys   54\n",
    "Madonna  53.\n",
    "once to keep one duplicate (keep=last/first), the two de-duplicated data to do the difference set,The first is used to save the first apperance of value,which means the same products will removed"
   ]
  },
  {
   "cell_type": "markdown",
   "id": "32a46157",
   "metadata": {},
   "source": [
    "7. Recompute the summary statistics for the change in ranking from the previous week and\n",
    "recreate the scatter plot of the current ratings versus the change in ranking for the new\n",
    "DataFrame. Discuss and interpret any changes in these statistics and the plot."
   ]
  },
  {
   "cell_type": "code",
   "execution_count": 8,
   "id": "a6d2a7fd",
   "metadata": {},
   "outputs": [
    {
     "name": "stdout",
     "output_type": "stream",
     "text": [
      "The summary statistics for the change in ranking from the previous week follow\n",
      "count    29467.000000\n",
      "mean        -7.586894\n",
      "std         15.880717\n",
      "min        -80.000000\n",
      "25%        -15.000000\n",
      "50%         -7.000000\n",
      "75%          0.000000\n",
      "max         92.000000\n",
      "dtype: float64\n",
      "the correlation coefficient between the current rank and the change in ranking should be \n",
      "-0.1550019855090293\n"
     ]
    },
    {
     "data": {
      "image/png": "[encoded data removed]",
      "text/plain": [
       "<Figure size 432x288 with 1 Axes>"
      ]
     },
     "metadata": {
      "needs_background": "light"
     },
     "output_type": "display_data"
    }
   ],
   "source": [
    "change_rank=Artist['last-week']-Artist['rank']\n",
    "print('The summary statistics for the change in ranking from the previous week follow')\n",
    "print(change_rank.describe())\n",
    "plt.figure()\n",
    "plt.scatter(Artist['rank'],Artist['Rank_new'],color='g',linestyle='None',marker='X')\n",
    "plt.ylabel('Chang_rank',fontsize=10)\n",
    "plt.xlabel('rank',fontsize=10)\n",
    "plt.title(' the correlation coefficient between the current rank and the change in ranking',fontsize=14)\n",
    "print('the correlation coefficient between the current rank and the change in ranking should be ')\n",
    "print(Artist['rank'].corr(Artist['Rank_new']))"
   ]
  },
  {
   "cell_type": "raw",
   "id": "f4c2850b",
   "metadata": {},
   "source": [
    "The summary statistics for the change in ranking from the previous week follow\n",
    "count    29467.000000\n",
    "\n",
    "mean        -7.586894\n",
    "\n",
    "std         15.880717\n",
    "\n",
    "min        -80.000000\n",
    "\n",
    "25%        -15.000000\n",
    "\n",
    "50%         -7.000000\n",
    "\n",
    "75%          0.000000\n",
    "\n",
    "max         92.000000;dtype: float64\n",
    "\n",
    "the correlation coefficient between the current rank and the change in ranking should be \n",
    "-0.1550019855090293.    \n",
    "First we can see from the data results that the maximum value of 100 is replaced by 92\n",
    "and many same data are moved comparing before chart.This might be able to be predicted by the fact that no new songs have appeared recently, as the previous rankings of these songs have not changed much.\n",
    "Secondly, the songs in the data, in the image show a downward trend. This is largely due to the fact that we make the data store unique pieces of music. Also, we can infer that The song's popularity has also declined \n",
    "Finally,the scatter is mainly concentrated in the lower right of the line with ordinal number 0 and has a linear relationship distribution that looks like an axe. The reason for this is that we only keep the latest entry of a particular song by a particular artist on the chart. It is also quitly obvious to conclude that the popularity of the songs has also decreased, which is why few scatters plot have positive ordinal values.\n"
   ]
  },
  {
   "cell_type": "markdown",
   "id": "cbc1daad",
   "metadata": {},
   "source": [
    "8. Using the new DataFrame, with unique entries only, create a histogram for the length of\n",
    "time each entry spent in the charts. Describe and interpret your plot. Compute the summary\n",
    "statistics for the length of time a song spends in the charts. Discuss these statistics in relation\n",
    "to your histogram"
   ]
  },
  {
   "cell_type": "code",
   "execution_count": 9,
   "id": "1795831f",
   "metadata": {},
   "outputs": [
    {
     "data": {
      "text/plain": [
       "count    29467.000000\n",
       "mean        11.149082\n",
       "std          8.287711\n",
       "min          1.000000\n",
       "25%          5.000000\n",
       "50%         10.000000\n",
       "75%         16.000000\n",
       "max         87.000000\n",
       "Name: weeks-on-board, dtype: float64"
      ]
     },
     "execution_count": 9,
     "metadata": {},
     "output_type": "execute_result"
    },
    {
     "data": {
      "image/png": "[encoded data removed]",
      "text/plain": [
       "<Figure size 432x288 with 1 Axes>"
      ]
     },
     "metadata": {
      "needs_background": "light"
     },
     "output_type": "display_data"
    }
   ],
   "source": [
    "plt.figure()\n",
    "Artist['weeks-on-board'].value_counts().plot(kind='bar',color='orange',alpha=0.3)\n",
    "plt.xticks(np.linspace(0,60,10))\n",
    "plt.ylabel(\"weeks-on-board-counts\",fontsize=10)\n",
    "plt.xlabel('weeks-on-board',fontsize=10)\n",
    "plt.title(' a histogram for the length oftime each entry spent in the charts for new Artist Dataframe.  ')\n",
    "Artist['weeks-on-board'].describe()"
   ]
  },
  {
   "cell_type": "raw",
   "id": "127c5fe8",
   "metadata": {},
   "source": [
    "The data in the bar chart argues for the change in the length of stay of the songs in the chart over time. The vast majority of songs do not stay on the chart for more than about 35 weeks, and from the first week onwards, many songs show a decreasing trend in their stay on the Billboard.\n",
    "Through graphs and statistics, 75% of the songs spent less than 16 weeks on the Billboard, the average time on the charts was 11 weeks, the shortest song stay on the bar was 1 week, however the longest chart stay was 87 weeks.\n"
   ]
  },
  {
   "cell_type": "markdown",
   "id": "faf020fd",
   "metadata": {},
   "source": [
    "9. Using the new DataFrame, with unique entries only, create a histogram for the peak rank.\n",
    "Describe and interpret your plot. Compute the summary statistics for peak rank. Discuss\n",
    "these statistics in relation to your histogram."
   ]
  },
  {
   "cell_type": "code",
   "execution_count": 15,
   "id": "3de0c347",
   "metadata": {
    "scrolled": true
   },
   "outputs": [
    {
     "data": {
      "text/plain": [
       "count    29467.000000\n",
       "mean        46.679302\n",
       "std         30.541818\n",
       "min          1.000000\n",
       "25%         18.000000\n",
       "50%         46.000000\n",
       "75%         73.000000\n",
       "max        100.000000\n",
       "Name: peak-rank, dtype: float64"
      ]
     },
     "execution_count": 15,
     "metadata": {},
     "output_type": "execute_result"
    },
    {
     "data": {
      "image/png": "[encoded data removed]",
      "text/plain": [
       "<Figure size 432x288 with 1 Axes>"
      ]
     },
     "metadata": {},
     "output_type": "display_data"
    }
   ],
   "source": [
    "plt.figure()\n",
    "Artist['peak-rank'].value_counts().plot(kind='bar',color='purple',alpha=0.3)\n",
    "plt.xticks(np.linspace(0,70,9))\n",
    "plt.ylabel(\"weeks-on-board-counts\",fontsize=10)\n",
    "plt.xlabel('weeks-on-board',fontsize=10)\n",
    "plt.title('  a histogram for the peak time   in the charts for new Artist Dataframe.  ')\n",
    "Artist['peak-rank'].describe()\n",
    "\n"
   ]
  },
  {
   "cell_type": "code",
   "execution_count": 17,
   "id": "bc3373be",
   "metadata": {},
   "outputs": [
    {
     "name": "stderr",
     "output_type": "stream",
     "text": [
      "F:\\Anaconda\\lib\\site-packages\\seaborn\\distributions.py:2557: FutureWarning: `distplot` is a deprecated function and will be removed in a future version. Please adapt your code to use either `displot` (a figure-level function with similar flexibility) or `histplot` (an axes-level function for histograms).\n",
      "  warnings.warn(msg, FutureWarning)\n"
     ]
    },
    {
     "data": {
      "text/plain": [
       "count    29467.000000\n",
       "mean        46.679302\n",
       "std         30.541818\n",
       "min          1.000000\n",
       "25%         18.000000\n",
       "50%         46.000000\n",
       "75%         73.000000\n",
       "max        100.000000\n",
       "Name: peak-rank, dtype: float64"
      ]
     },
     "execution_count": 17,
     "metadata": {},
     "output_type": "execute_result"
    },
    {
     "data": {
      "image/png": "[encoded data removed]",
      "text/plain": [
       "<Figure size 432x288 with 1 Axes>"
      ]
     },
     "metadata": {},
     "output_type": "display_data"
    }
   ],
   "source": [
    "sns.set_style(\"darkgrid\")\n",
    "sns.distplot(Artist['peak-rank'],color='red')\n",
    "Artist['peak-rank'].describe()"
   ]
  },
  {
   "cell_type": "raw",
   "id": "33126bd5",
   "metadata": {},
   "source": [
    "From the data in the histogram, it is found that peak-week is showing a sharp decline from 1, and then the change of data from about 400th is gradually leveling off, which indicates that the trend of data distribution gradually tends to stabilize with the change of ranking. The minimum and maximum values of the data are 1 and 100 respectively, which may prove the openness and fairness of the music charts."
   ]
  },
  {
   "cell_type": "markdown",
   "id": "9149897c",
   "metadata": {},
   "source": [
    "10. Write a short summary on what you have learnt about the Billboard Hot 100 Chart from this\n",
    "analysis. (5-10 sentences)"
   ]
  },
  {
   "cell_type": "raw",
   "id": "93008a30",
   "metadata": {},
   "source": [
    "Using historical data from the Bulletin Board Hot 100 list and based on the nine questions above, the following conclusions were reached.\n",
    "First, Billboard has a rich database of songs from all genres. Since 1958, 10,100 artists have appeared on the chart. In addition, by removing duplicates, we get 29,467 songs that are not duplicates and come from different artists, which means that those artists who appear frequently will have more than one song on the chart.\n",
    "Secondly,we can see that the top 10 entries will get different conclusions between the unique entries and the normal entries. Because for the original dataset, a song can stay on the charts for several weeks in a row, which means that this song by one artist or rather the same entry by artists will repeatedly dominate the charts being a hit for several weeks, but in the unique entry, we remove the duplicate songs by the same artist, which means that the top 10 artists derived from this dataset only count their same song once, so a different number of songs by the same artist on the chart would lead to two different conclusions.\n",
    "Thrid ,there are a lot of missing information in the last-week data, which is not easy to analyze the chart data, although the missing values are filled with 101, but I think it affects the accuracy of the data analysis results, because the number 101 has no basis to support, and at the same time the chart analysis is the number of songs in the top 100.\n",
    "Finally,Analyzing the data, it was concluded that Talyor Swift had the most entries on the chart, but after removing the duplicates, Glee Cast became the artist with the most entries on the chart. This can be inferred that Taylor's songs, most of which are classic, can dominate the charts for a long time\n",
    "\n"
   ]
  }
 ],
 "metadata": {
  "kernelspec": {
   "display_name": "Python 3",
   "language": "python",
   "name": "python3"
  },
  "language_info": {
   "codemirror_mode": {
    "name": "ipython",
    "version": 3
   },
   "file_extension": ".py",
   "mimetype": "text/x-python",
   "name": "python",
   "nbconvert_exporter": "python",
   "pygments_lexer": "ipython3",
   "version": "3.8.8"
  }
 },
 "nbformat": 4,
 "nbformat_minor": 5
}
